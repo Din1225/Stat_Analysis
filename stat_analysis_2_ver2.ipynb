{
 "cells": [
  {
   "attachments": {},
   "cell_type": "markdown",
   "id": "7bd51096",
   "metadata": {},
   "source": [
    "<h2>Q2:由參與者的學習年份與同理心的相關性，來探討讀醫學系是否會增加同理心</h2>"
   ]
  },
  {
   "cell_type": "code",
   "execution_count": 1,
   "id": "686a0fab",
   "metadata": {},
   "outputs": [],
   "source": [
    "# modules we'll use\n",
    "import pandas as pd\n",
    "import numpy as np\n",
    "import seaborn as sb\n",
    "import scipy.stats\n",
    "import statsmodels.stats.weightstats\n",
    "import matplotlib.pyplot as plt\n",
    "# read in our data\n",
    "med_df = pd.read_csv(\"C:/Users/ASUS/Desktop/Data Carrard et al. 2022 MedTeach.csv\")\n",
    "#med_df"
   ]
  },
  {
   "attachments": {},
   "cell_type": "markdown",
   "id": "96b7bfef",
   "metadata": {},
   "source": [
    "<h2>描述統計</h2>"
   ]
  },
  {
   "cell_type": "code",
   "execution_count": 2,
   "id": "043bcad3",
   "metadata": {},
   "outputs": [
    {
     "name": "stdout",
     "output_type": "stream",
     "text": [
      "學習年份和同理心的相關係數table為:\n",
      "               year  erec_mean\n",
      "year       1.000000   0.080132\n",
      "erec_mean  0.080132   1.000000\n"
     ]
    },
    {
     "data": {
      "image/png": "[encoded data removed]",
      "text/plain": [
       "<Figure size 640x480 with 1 Axes>"
      ]
     },
     "metadata": {},
     "output_type": "display_data"
    }
   ],
   "source": [
    "#首先，從圖直觀的獲取資訊\n",
    "sb.set(style=\"whitegrid\")\n",
    "categorical = med_df[['year', 'erec_mean']].copy()\n",
    "ax = sb.lineplot(data = med_df,x=med_df['year'], y= med_df['erec_mean'],err_style='bars',linewidth=1.5)\n",
    "ax.set(ylim=(0, 1))\n",
    "ax.set_title(\"line chart of erec_mean vs year\")\n",
    "#學習年份和同理心的相關係數\n",
    "print(f'學習年份和同理心的相關係數table為:\\n{categorical.corr()}')\n"
   ]
  },
  {
   "attachments": {},
   "cell_type": "markdown",
   "id": "440f6829",
   "metadata": {},
   "source": [
    "<h3>直觀的從圖中得知，隨著學習年份的增加，同理心似乎沒有大幅度的增加</h3>\n",
    "\n",
    "<h3>他們之間的相關係數，也相當低</h3>"
   ]
  },
  {
   "attachments": {},
   "cell_type": "markdown",
   "id": "8eb2d934",
   "metadata": {},
   "source": [
    "--------\n",
    "\n",
    "<h3>首先，我們取出 \"學習年份1年~學習年份6年與同理心\" 的資料，再利用圖表觀察</h3>"
   ]
  },
  {
   "cell_type": "code",
   "execution_count": 3,
   "id": "dbc1e8f4",
   "metadata": {},
   "outputs": [
    {
     "name": "stdout",
     "output_type": "stream",
     "text": [
      "學習年份為1年的描述統計:\n",
      "count    245.000000\n",
      "mean       0.712245\n",
      "std        0.094739\n",
      "min        0.357143\n",
      "25%        0.642857\n",
      "50%        0.714286\n",
      "75%        0.785714\n",
      "max        0.904762\n",
      "Name: erec_mean, dtype: float64\n",
      "學習年份為2年的描述統計:\n",
      "count    135.000000\n",
      "mean       0.700000\n",
      "std        0.098865\n",
      "min        0.404762\n",
      "25%        0.619048\n",
      "50%        0.714286\n",
      "75%        0.785714\n",
      "max        0.880952\n",
      "Name: erec_mean, dtype: float64\n",
      "學習年份為3年的描述統計:\n",
      "count    143.000000\n",
      "mean       0.722611\n",
      "std        0.079835\n",
      "min        0.547619\n",
      "25%        0.666667\n",
      "50%        0.714286\n",
      "75%        0.785714\n",
      "max        0.928571\n",
      "Name: erec_mean, dtype: float64\n",
      "學習年份為4年的描述統計:\n",
      "count    123.000000\n",
      "mean       0.741580\n",
      "std        0.099471\n",
      "min        0.428571\n",
      "25%        0.690476\n",
      "50%        0.738095\n",
      "75%        0.809524\n",
      "max        0.952381\n",
      "Name: erec_mean, dtype: float64\n",
      "學習年份為5年的描述統計:\n",
      "count    127.000000\n",
      "mean       0.739970\n",
      "std        0.078831\n",
      "min        0.547619\n",
      "25%        0.690476\n",
      "50%        0.738095\n",
      "75%        0.809524\n",
      "max        0.904762\n",
      "Name: erec_mean, dtype: float64\n",
      "學習年份為6年的描述統計:\n",
      "count    113.000000\n",
      "mean       0.712600\n",
      "std        0.102197\n",
      "min        0.404762\n",
      "25%        0.642857\n",
      "50%        0.738095\n",
      "75%        0.785714\n",
      "max        0.904762\n",
      "Name: erec_mean, dtype: float64\n"
     ]
    }
   ],
   "source": [
    "#讀取學習年份1年~6年和同理心的資料\n",
    "erec1_df = med_df['erec_mean'].loc[med_df['year']==1]\n",
    "erec2_df = med_df['erec_mean'].loc[med_df['year']==2]\n",
    "erec3_df = med_df['erec_mean'].loc[med_df['year']==3]\n",
    "erec4_df = med_df['erec_mean'].loc[med_df['year']==4]\n",
    "erec5_df = med_df['erec_mean'].loc[med_df['year']==5]\n",
    "erec6_df = med_df['erec_mean'].loc[med_df['year']==6]\n",
    "print(f'學習年份為1年的描述統計:')\n",
    "print(erec1_df.describe())\n",
    "print(f'學習年份為2年的描述統計:')\n",
    "print(erec2_df.describe())\n",
    "print(f'學習年份為3年的描述統計:')\n",
    "print(erec3_df.describe())\n",
    "print(f'學習年份為4年的描述統計:')\n",
    "print(erec4_df.describe())\n",
    "print(f'學習年份為5年的描述統計:')\n",
    "print(erec5_df.describe())\n",
    "print(f'學習年份為6年的描述統計:')\n",
    "print(erec6_df.describe())"
   ]
  },
  {
   "attachments": {},
   "cell_type": "markdown",
   "id": "114842bd",
   "metadata": {},
   "source": [
    "|  資料 \\ 信息  | count  |  mean    | std    |  min  | 25%     |  50%     | 75%  | max  |\n",
    "|  ----  | ----  |  ----   | ----   | ----   |----     |----      |----   |----    |\n",
    "| 學習年份為1年的同理心  | 245 | 0.7122  | 0.0947 |0.3571   |  0.6428  |  0.7143|0.7857 | 0.9048  | \n",
    "| 學習年份為2年的同理心  | 135 | 0.7  | 0.0989 | 0.4047  |0.6190  |0.7143     |0.7857 |0.889 |\n",
    "| 學習年份為3年的同理心  | 143 | 0.7226  | 0.0798 | 0.5476  |0.6667   |0.7143     |0.7857 |0.9286 |\n",
    "| 學習年份為4年的同理心  | 123 | 0.7416  | 0.0995 | 0.4286  |0.6905   |0.7381   |0.8095 |0.9524 |\n",
    "| 學習年份為5年的同理心  | 127 | 0.7399  | 0.0788 | 0.5476  |0.6905   |0.7381    |0.8095 |0.9048 |\n",
    "| 學習年份為6年的同理心  | 113 | 0.7126  | 0.1021 | 0.4047  |0.6428   |0.7381     |0.7857 |0.9048 |\n",
    "\n"
   ]
  },
  {
   "cell_type": "code",
   "execution_count": 5,
   "id": "c241d44e",
   "metadata": {},
   "outputs": [
    {
     "data": {
      "text/plain": [
       "[(0.2, 1.0)]"
      ]
     },
     "execution_count": 5,
     "metadata": {},
     "output_type": "execute_result"
    },
    {
     "data": {
      "image/png": "[encoded data removed]",
      "text/plain": [
       "<Figure size 640x480 with 1 Axes>"
      ]
     },
     "metadata": {},
     "output_type": "display_data"
    }
   ],
   "source": [
    "year_1_to_6_df = med_df.copy()\n",
    "year_1_to_6_df\n",
    "#data visualization\n",
    "sb.set(style=\"whitegrid\")\n",
    "ax = sb.boxplot(x = \"year\", y = \"erec_mean\", data = year_1_to_6_df, width=0.2, palette=\"Set3\")\n",
    "ax.set_title(\"box-and-whisker plot of erec_mean vs  year 1~6\")\n",
    "ax.set(ylim=(0.2, 1))"
   ]
  },
  {
   "attachments": {},
   "cell_type": "markdown",
   "id": "ce10f7d0",
   "metadata": {},
   "source": [
    "<h3>學習年份1年~學習年份6年的醫學生，同理心數值的分布並沒有差異太大</h3>"
   ]
  },
  {
   "attachments": {},
   "cell_type": "markdown",
   "id": "1b0ad39e",
   "metadata": {},
   "source": [
    "-------------------\n",
    "<h2>檢定統計</h2>\n",
    "\n",
    "<h3>首先，檢查資料是否為常態分布 (H0:資料為常態分佈 vs H1:資料非常態分布):</h3>"
   ]
  },
  {
   "cell_type": "code",
   "execution_count": 29,
   "id": "0d54edd3",
   "metadata": {},
   "outputs": [
    {
     "name": "stdout",
     "output_type": "stream",
     "text": [
      "NormaltestResult(statistic=3.0187093797347115, pvalue=0.22105257941269038)\n",
      "NormaltestResult(statistic=5.246979028800002, pvalue=0.07254925892381314)\n",
      "NormaltestResult(statistic=0.47522049228634383, pvalue=0.7885099560075395)\n",
      "NormaltestResult(statistic=13.941452696071309, pvalue=0.0009389706386054727)\n",
      "NormaltestResult(statistic=2.3675959350152023, pvalue=0.3061139173130186)\n",
      "NormaltestResult(statistic=5.753983139849085, pvalue=0.05630389462594448)\n"
     ]
    }
   ],
   "source": [
    "print(scipy.stats.normaltest(erec1_df))\n",
    "print(scipy.stats.normaltest(erec2_df))\n",
    "print(scipy.stats.normaltest(erec3_df))\n",
    "print(scipy.stats.normaltest(erec4_df))\n",
    "print(scipy.stats.normaltest(erec5_df))\n",
    "print(scipy.stats.normaltest(erec6_df))"
   ]
  },
  {
   "attachments": {},
   "cell_type": "markdown",
   "id": "97869acc",
   "metadata": {},
   "source": [
    "<h3>\n",
    "就讀1年的資料: p-value=0.22105257941269038 > 0.05，我們不棄卻H0，所以資料是常態分佈。\n",
    "</h3>\n",
    "<h3>\n",
    "就讀2年的資料: p-value=0.07254925892381314 > 0.05，我們不棄卻H0，所以資料是常態分佈。\n",
    "</h3>\n",
    "<h3>\n",
    "就讀3年的資料: p-value=0.7885099560075395 > 0.05，我們不棄卻H0，所以資料是常態分佈。\n",
    "</h3>\n",
    "<h3>\n",
    "就讀4年的資料: p-value=0.0009389706386054727 < 0.05，我們棄卻H0，所以不是常態分佈。\n",
    "</h3>\n",
    "<h3>\n",
    "就讀5年的資料: p-value=0.3061139173130186 > 0.05，我們不棄卻H0，所以資料是常態分佈。\n",
    "</h3>\n",
    "<h3>\n",
    "就讀6年的資料: p-value=0.05630389462594448 > 0.05，我們不棄卻H0，所以資料是常態分佈。\n",
    "</h3>"
   ]
  },
  {
   "attachments": {},
   "cell_type": "markdown",
   "id": "75c13331",
   "metadata": {},
   "source": [
    "<h3>因為有資料不是常態分佈，所以使用non-parametric Kruskal-Wallis H-test</h3>\n",
    "註: 無母數(non-parametric)分析資料不需為常態分布，也不需檢查資料是否為相同變異數\n",
    "\n",
    "H0: 學習年份多寡對同理心數值無顯著影響\n",
    "\n",
    "H1: 學習年份多寡對同理心數值有顯著影響"
   ]
  },
  {
   "cell_type": "code",
   "execution_count": 27,
   "id": "b3024d82",
   "metadata": {},
   "outputs": [
    {
     "data": {
      "text/plain": [
       "KruskalResult(statistic=19.405884598529678, pvalue=0.0016146011890200826)"
      ]
     },
     "execution_count": 27,
     "metadata": {},
     "output_type": "execute_result"
    }
   ],
   "source": [
    "scipy.stats.kruskal (erec1_df, erec2_df, erec3_df, erec4_df, erec5_df, erec6_df)"
   ]
  },
  {
   "attachments": {},
   "cell_type": "markdown",
   "id": "81116a5d",
   "metadata": {},
   "source": [
    "------------------\n",
    "<h2>結論</h2>\n",
    "<h3>根據Kruskal-Wallis H-test的結果，\n",
    "p-value = 0.0016146011890200826 < 0.05，棄卻H0\n",
    "\n",
    "表示在這6組的同理心數值有顯著差異。\n",
    "因此在顯著水準為0.05的情況下，學習年份多寡會影響同理心\n",
    "\n",
    "Insight: 儘管就讀於課業繁重的醫學系，隨著學習資歷的增長，醫學生也是能從長時間的課程和實作中，增加同理心。\n",
    "</h3>"
   ]
  }
 ],
 "metadata": {
  "kernelspec": {
   "display_name": "Python 3 (ipykernel)",
   "language": "python",
   "name": "python3"
  },
  "language_info": {
   "codemirror_mode": {
    "name": "ipython",
    "version": 3
   },
   "file_extension": ".py",
   "mimetype": "text/x-python",
   "name": "python",
   "nbconvert_exporter": "python",
   "pygments_lexer": "ipython3",
   "version": "3.10.5"
  }
 },
 "nbformat": 4,
 "nbformat_minor": 5
}
