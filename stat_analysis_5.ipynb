{
 "cells": [
  {
   "attachments": {},
   "cell_type": "markdown",
   "metadata": {},
   "source": [
    "<h2>Q5:以參與者的每周學習時間以及特質焦慮量的相關性，探討學習時間是否影響焦慮的生成</h2>"
   ]
  },
  {
   "cell_type": "code",
   "execution_count": 9,
   "metadata": {},
   "outputs": [
    {
     "data": {
      "text/html": [
       "<div>\n",
       "<style scoped>\n",
       "    .dataframe tbody tr th:only-of-type {\n",
       "        vertical-align: middle;\n",
       "    }\n",
       "\n",
       "    .dataframe tbody tr th {\n",
       "        vertical-align: top;\n",
       "    }\n",
       "\n",
       "    .dataframe thead th {\n",
       "        text-align: right;\n",
       "    }\n",
       "</style>\n",
       "<table border=\"1\" class=\"dataframe\">\n",
       "  <thead>\n",
       "    <tr style=\"text-align: right;\">\n",
       "      <th></th>\n",
       "      <th>id</th>\n",
       "      <th>age</th>\n",
       "      <th>year</th>\n",
       "      <th>sex</th>\n",
       "      <th>glang</th>\n",
       "      <th>part</th>\n",
       "      <th>job</th>\n",
       "      <th>stud_h</th>\n",
       "      <th>health</th>\n",
       "      <th>psyt</th>\n",
       "      <th>jspe</th>\n",
       "      <th>qcae_cog</th>\n",
       "      <th>qcae_aff</th>\n",
       "      <th>amsp</th>\n",
       "      <th>erec_mean</th>\n",
       "      <th>cesd</th>\n",
       "      <th>stai_t</th>\n",
       "      <th>mbi_ex</th>\n",
       "      <th>mbi_cy</th>\n",
       "      <th>mbi_ea</th>\n",
       "    </tr>\n",
       "  </thead>\n",
       "  <tbody>\n",
       "    <tr>\n",
       "      <th>0</th>\n",
       "      <td>2</td>\n",
       "      <td>18</td>\n",
       "      <td>1</td>\n",
       "      <td>1</td>\n",
       "      <td>120</td>\n",
       "      <td>1</td>\n",
       "      <td>0</td>\n",
       "      <td>56</td>\n",
       "      <td>3</td>\n",
       "      <td>0</td>\n",
       "      <td>88</td>\n",
       "      <td>62</td>\n",
       "      <td>27</td>\n",
       "      <td>17</td>\n",
       "      <td>0.738095</td>\n",
       "      <td>34</td>\n",
       "      <td>61</td>\n",
       "      <td>17</td>\n",
       "      <td>13</td>\n",
       "      <td>20</td>\n",
       "    </tr>\n",
       "    <tr>\n",
       "      <th>1</th>\n",
       "      <td>4</td>\n",
       "      <td>26</td>\n",
       "      <td>4</td>\n",
       "      <td>1</td>\n",
       "      <td>1</td>\n",
       "      <td>1</td>\n",
       "      <td>0</td>\n",
       "      <td>20</td>\n",
       "      <td>4</td>\n",
       "      <td>0</td>\n",
       "      <td>109</td>\n",
       "      <td>55</td>\n",
       "      <td>37</td>\n",
       "      <td>22</td>\n",
       "      <td>0.690476</td>\n",
       "      <td>7</td>\n",
       "      <td>33</td>\n",
       "      <td>14</td>\n",
       "      <td>11</td>\n",
       "      <td>26</td>\n",
       "    </tr>\n",
       "    <tr>\n",
       "      <th>2</th>\n",
       "      <td>9</td>\n",
       "      <td>21</td>\n",
       "      <td>3</td>\n",
       "      <td>2</td>\n",
       "      <td>1</td>\n",
       "      <td>0</td>\n",
       "      <td>0</td>\n",
       "      <td>36</td>\n",
       "      <td>3</td>\n",
       "      <td>0</td>\n",
       "      <td>106</td>\n",
       "      <td>64</td>\n",
       "      <td>39</td>\n",
       "      <td>17</td>\n",
       "      <td>0.690476</td>\n",
       "      <td>25</td>\n",
       "      <td>73</td>\n",
       "      <td>24</td>\n",
       "      <td>7</td>\n",
       "      <td>23</td>\n",
       "    </tr>\n",
       "    <tr>\n",
       "      <th>3</th>\n",
       "      <td>10</td>\n",
       "      <td>21</td>\n",
       "      <td>2</td>\n",
       "      <td>2</td>\n",
       "      <td>1</td>\n",
       "      <td>0</td>\n",
       "      <td>1</td>\n",
       "      <td>51</td>\n",
       "      <td>5</td>\n",
       "      <td>0</td>\n",
       "      <td>101</td>\n",
       "      <td>52</td>\n",
       "      <td>33</td>\n",
       "      <td>18</td>\n",
       "      <td>0.833333</td>\n",
       "      <td>17</td>\n",
       "      <td>48</td>\n",
       "      <td>16</td>\n",
       "      <td>10</td>\n",
       "      <td>21</td>\n",
       "    </tr>\n",
       "    <tr>\n",
       "      <th>4</th>\n",
       "      <td>13</td>\n",
       "      <td>21</td>\n",
       "      <td>3</td>\n",
       "      <td>1</td>\n",
       "      <td>1</td>\n",
       "      <td>1</td>\n",
       "      <td>0</td>\n",
       "      <td>22</td>\n",
       "      <td>4</td>\n",
       "      <td>0</td>\n",
       "      <td>102</td>\n",
       "      <td>58</td>\n",
       "      <td>28</td>\n",
       "      <td>21</td>\n",
       "      <td>0.690476</td>\n",
       "      <td>14</td>\n",
       "      <td>46</td>\n",
       "      <td>22</td>\n",
       "      <td>14</td>\n",
       "      <td>23</td>\n",
       "    </tr>\n",
       "  </tbody>\n",
       "</table>\n",
       "</div>"
      ],
      "text/plain": [
       "   id  age  year  sex  glang  part  job  stud_h  health  psyt  jspe  qcae_cog  \\\n",
       "0   2   18     1    1    120     1    0      56       3     0    88        62   \n",
       "1   4   26     4    1      1     1    0      20       4     0   109        55   \n",
       "2   9   21     3    2      1     0    0      36       3     0   106        64   \n",
       "3  10   21     2    2      1     0    1      51       5     0   101        52   \n",
       "4  13   21     3    1      1     1    0      22       4     0   102        58   \n",
       "\n",
       "   qcae_aff  amsp  erec_mean  cesd  stai_t  mbi_ex  mbi_cy  mbi_ea  \n",
       "0        27    17   0.738095    34      61      17      13      20  \n",
       "1        37    22   0.690476     7      33      14      11      26  \n",
       "2        39    17   0.690476    25      73      24       7      23  \n",
       "3        33    18   0.833333    17      48      16      10      21  \n",
       "4        28    21   0.690476    14      46      22      14      23  "
      ]
     },
     "execution_count": 9,
     "metadata": {},
     "output_type": "execute_result"
    }
   ],
   "source": [
    "# modules we'll use\n",
    "import pandas as pd\n",
    "import numpy as np\n",
    "import seaborn as sb\n",
    "import scipy.stats\n",
    "import statsmodels.stats.weightstats\n",
    "import matplotlib.pyplot as plt\n",
    "from sklearn.linear_model import LinearRegression\n",
    "from scipy.stats import chi2_contingency\n",
    "# read in our data\n",
    "med_df = pd.read_csv(\"C:/Users/ASUS/Desktop/Data Carrard et al. 2022 MedTeach.csv\")\n",
    "med_df.head(5)"
   ]
  },
  {
   "attachments": {},
   "cell_type": "markdown",
   "metadata": {},
   "source": [
    "<h2>描述統計</h2>"
   ]
  },
  {
   "cell_type": "code",
   "execution_count": 4,
   "metadata": {},
   "outputs": [
    {
     "name": "stdout",
     "output_type": "stream",
     "text": [
      "          stud_h    stai_t\n",
      "stud_h  1.000000  0.152052\n",
      "stai_t  0.152052  1.000000\n"
     ]
    }
   ],
   "source": [
    "#stud_h stai_t\n",
    "category = med_df[[\"stud_h\",\"stai_t\"]].copy()\n",
    "print(category.corr())"
   ]
  },
  {
   "attachments": {},
   "cell_type": "markdown",
   "metadata": {},
   "source": [
    "<h3>\n",
    "每周學習時間和焦慮量的相關係數為0.152052，\n",
    "但仍然不能確定兩者是碰巧相關，還是真的相關\n",
    "</h3>"
   ]
  },
  {
   "cell_type": "code",
   "execution_count": 8,
   "metadata": {},
   "outputs": [
    {
     "name": "stdout",
     "output_type": "stream",
     "text": [
      "count    886.000000\n",
      "mean      25.288939\n",
      "std       15.927875\n",
      "min        0.000000\n",
      "25%       12.000000\n",
      "50%       25.000000\n",
      "75%       36.000000\n",
      "max       70.000000\n",
      "Name: stud_h, dtype: float64\n",
      "count    886.000000\n",
      "mean      42.898420\n",
      "std       11.978458\n",
      "min       20.000000\n",
      "25%       34.000000\n",
      "50%       43.000000\n",
      "75%       51.000000\n",
      "max       77.000000\n",
      "Name: stai_t, dtype: float64\n"
     ]
    }
   ],
   "source": [
    "print(med_df[\"stud_h\"].describe())\n",
    "print(med_df[\"stai_t\"].describe())\n"
   ]
  },
  {
   "attachments": {},
   "cell_type": "markdown",
   "metadata": {},
   "source": [
    "|                |   mean   | std    |  min  | 25%     |  50%     | 75%  | max  |\n",
    "|  ----          | ----     |  ----   | ---- | ----   |----     |----     |----   |\n",
    "| Learning time  | 25.2889  | 15.9278 |0   |  12     |  25       |36     | 70  | \n",
    "| Anxiety amount |  42.8984 |11.9784 |  20  |34      |43         | 51      |77 |\n",
    "\n"
   ]
  },
  {
   "attachments": {},
   "cell_type": "markdown",
   "metadata": {},
   "source": [
    "<h2>檢定統計</h2>\n",
    "\n",
    "<h3>檢定每周學習時間和焦慮量的關聯性 : 卡方檢定</h3>\n",
    "\n",
    "H0: 每周學習時間和焦慮量無關\n",
    "\n",
    "H1: 每周學習時間和焦慮量有關"
   ]
  },
  {
   "cell_type": "code",
   "execution_count": 26,
   "metadata": {},
   "outputs": [
    {
     "name": "stderr",
     "output_type": "stream",
     "text": [
      "C:\\Users\\ASUS\\AppData\\Local\\Temp\\ipykernel_16168\\1146802979.py:4: FutureWarning: The frame.append method is deprecated and will be removed from pandas in a future version. Use pandas.concat instead.\n",
      "  chi2_table = chi2_table.append({'Variable 1': \"stud_h\", 'Variable 2': \"stai_t\", 'Chi-Square': chi2, 'p-value': p}, ignore_index=True)\n"
     ]
    },
    {
     "data": {
      "text/html": [
       "<div>\n",
       "<style scoped>\n",
       "    .dataframe tbody tr th:only-of-type {\n",
       "        vertical-align: middle;\n",
       "    }\n",
       "\n",
       "    .dataframe tbody tr th {\n",
       "        vertical-align: top;\n",
       "    }\n",
       "\n",
       "    .dataframe thead th {\n",
       "        text-align: right;\n",
       "    }\n",
       "</style>\n",
       "<table border=\"1\" class=\"dataframe\">\n",
       "  <thead>\n",
       "    <tr style=\"text-align: right;\">\n",
       "      <th></th>\n",
       "      <th>Variable 1</th>\n",
       "      <th>Variable 2</th>\n",
       "      <th>Chi-Square</th>\n",
       "      <th>p-value</th>\n",
       "    </tr>\n",
       "  </thead>\n",
       "  <tbody>\n",
       "    <tr>\n",
       "      <th>0</th>\n",
       "      <td>stud_h</td>\n",
       "      <td>stai_t</td>\n",
       "      <td>3332.034372</td>\n",
       "      <td>0.630795</td>\n",
       "    </tr>\n",
       "  </tbody>\n",
       "</table>\n",
       "</div>"
      ],
      "text/plain": [
       "  Variable 1 Variable 2   Chi-Square   p-value\n",
       "0     stud_h     stai_t  3332.034372  0.630795"
      ]
     },
     "execution_count": 26,
     "metadata": {},
     "output_type": "execute_result"
    }
   ],
   "source": [
    "#alpha = 0.05\n",
    "chi2_table = pd.DataFrame(columns=['Variable 1', 'Variable 2', 'Chi-Square', 'p-value'])\n",
    "chi2, p, dof, ex = chi2_contingency(pd.crosstab(med_df[\"stud_h\"], med_df[\"stai_t\"]))\n",
    "chi2_table = chi2_table.append({'Variable 1': \"stud_h\", 'Variable 2': \"stai_t\", 'Chi-Square': chi2, 'p-value': p}, ignore_index=True)\n",
    "chi2_table"
   ]
  },
  {
   "attachments": {},
   "cell_type": "markdown",
   "metadata": {},
   "source": [
    "<h3>\n",
    "p-value ~= 0.6308 > 0.05 ， 我們不棄卻H0\n",
    "\n",
    "所以在顯著水準0.05的情況下，每周學習時間和焦慮量無關\n",
    "</h3>"
   ]
  },
  {
   "attachments": {},
   "cell_type": "markdown",
   "metadata": {},
   "source": [
    "<h2>延伸分析</h2>\n",
    "<h3>\n",
    "既然每周學習時間和焦慮量(心理上的)無關，那麼就會好奇是否和生理健康有關呢\n",
    "\n",
    "於是，我們可以把每周學習時間和生理健康也做一次卡方檢定\n",
    "</h3>\n",
    "H0: 每周學習時間和生理健康無關\n",
    "\n",
    "H1: 每周學習時間和生理健康有關"
   ]
  },
  {
   "cell_type": "code",
   "execution_count": 27,
   "metadata": {},
   "outputs": [
    {
     "name": "stderr",
     "output_type": "stream",
     "text": [
      "C:\\Users\\ASUS\\AppData\\Local\\Temp\\ipykernel_16168\\3357735946.py:3: FutureWarning: The frame.append method is deprecated and will be removed from pandas in a future version. Use pandas.concat instead.\n",
      "  chi2_table2 = chi2_table2.append({'Variable 1': \"stud_h\", 'Variable 2': \"health\", 'Chi-Square': chi2, 'p-value': p}, ignore_index=True)\n"
     ]
    },
    {
     "data": {
      "text/html": [
       "<div>\n",
       "<style scoped>\n",
       "    .dataframe tbody tr th:only-of-type {\n",
       "        vertical-align: middle;\n",
       "    }\n",
       "\n",
       "    .dataframe tbody tr th {\n",
       "        vertical-align: top;\n",
       "    }\n",
       "\n",
       "    .dataframe thead th {\n",
       "        text-align: right;\n",
       "    }\n",
       "</style>\n",
       "<table border=\"1\" class=\"dataframe\">\n",
       "  <thead>\n",
       "    <tr style=\"text-align: right;\">\n",
       "      <th></th>\n",
       "      <th>Variable 1</th>\n",
       "      <th>Variable 2</th>\n",
       "      <th>Chi-Square</th>\n",
       "      <th>p-value</th>\n",
       "    </tr>\n",
       "  </thead>\n",
       "  <tbody>\n",
       "    <tr>\n",
       "      <th>0</th>\n",
       "      <td>stud_h</td>\n",
       "      <td>health</td>\n",
       "      <td>293.764489</td>\n",
       "      <td>0.010132</td>\n",
       "    </tr>\n",
       "  </tbody>\n",
       "</table>\n",
       "</div>"
      ],
      "text/plain": [
       "  Variable 1 Variable 2  Chi-Square   p-value\n",
       "0     stud_h     health  293.764489  0.010132"
      ]
     },
     "execution_count": 27,
     "metadata": {},
     "output_type": "execute_result"
    }
   ],
   "source": [
    "chi2_table2 = pd.DataFrame(columns=['Variable 1', 'Variable 2', 'Chi-Square', 'p-value'])\n",
    "chi2, p, dof, ex = chi2_contingency(pd.crosstab(med_df[\"stud_h\"], med_df[\"health\"]))\n",
    "chi2_table2 = chi2_table2.append({'Variable 1': \"stud_h\", 'Variable 2': \"health\", 'Chi-Square': chi2, 'p-value': p}, ignore_index=True)\n",
    "chi2_table2"
   ]
  },
  {
   "attachments": {},
   "cell_type": "markdown",
   "metadata": {},
   "source": [
    "<h3>\n",
    "p-value ~= 0.0101 < 0.05，我們棄卻H0\n",
    "\n",
    "所以在顯著水準0.05的情況下，每周學習時間和生理健康有關\n",
    "\n",
    "</h3>\n"
   ]
  },
  {
   "attachments": {},
   "cell_type": "markdown",
   "metadata": {},
   "source": [
    "<h2>\n",
    "結論\n",
    "</h2>\n",
    "<h3>\n",
    "影響健康的層面可能有很多種，而學習時間的長短對醫學生健康的相關性\n",
    "\n",
    "和焦慮量無關，而是跟生理健康有關\n",
    "</h3>\n"
   ]
  }
 ],
 "metadata": {
  "kernelspec": {
   "display_name": "Python 3",
   "language": "python",
   "name": "python3"
  },
  "language_info": {
   "codemirror_mode": {
    "name": "ipython",
    "version": 3
   },
   "file_extension": ".py",
   "mimetype": "text/x-python",
   "name": "python",
   "nbconvert_exporter": "python",
   "pygments_lexer": "ipython3",
   "version": "3.10.5"
  },
  "orig_nbformat": 4
 },
 "nbformat": 4,
 "nbformat_minor": 2
}
