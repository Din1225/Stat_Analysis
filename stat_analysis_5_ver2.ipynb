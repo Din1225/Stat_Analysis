{
 "cells": [
  {
   "attachments": {},
   "cell_type": "markdown",
   "metadata": {},
   "source": [
    "<h2>Q5:以參與者的每周學習時間以及特質焦慮量的相關性，探討學習時間是否影響焦慮的生成</h2>"
   ]
  },
  {
   "cell_type": "code",
   "execution_count": 1,
   "metadata": {},
   "outputs": [
    {
     "data": {
      "text/html": [
       "<div>\n",
       "<style scoped>\n",
       "    .dataframe tbody tr th:only-of-type {\n",
       "        vertical-align: middle;\n",
       "    }\n",
       "\n",
       "    .dataframe tbody tr th {\n",
       "        vertical-align: top;\n",
       "    }\n",
       "\n",
       "    .dataframe thead th {\n",
       "        text-align: right;\n",
       "    }\n",
       "</style>\n",
       "<table border=\"1\" class=\"dataframe\">\n",
       "  <thead>\n",
       "    <tr style=\"text-align: right;\">\n",
       "      <th></th>\n",
       "      <th>id</th>\n",
       "      <th>age</th>\n",
       "      <th>year</th>\n",
       "      <th>sex</th>\n",
       "      <th>glang</th>\n",
       "      <th>part</th>\n",
       "      <th>job</th>\n",
       "      <th>stud_h</th>\n",
       "      <th>health</th>\n",
       "      <th>psyt</th>\n",
       "      <th>jspe</th>\n",
       "      <th>qcae_cog</th>\n",
       "      <th>qcae_aff</th>\n",
       "      <th>amsp</th>\n",
       "      <th>erec_mean</th>\n",
       "      <th>cesd</th>\n",
       "      <th>stai_t</th>\n",
       "      <th>mbi_ex</th>\n",
       "      <th>mbi_cy</th>\n",
       "      <th>mbi_ea</th>\n",
       "    </tr>\n",
       "  </thead>\n",
       "  <tbody>\n",
       "    <tr>\n",
       "      <th>0</th>\n",
       "      <td>2</td>\n",
       "      <td>18</td>\n",
       "      <td>1</td>\n",
       "      <td>1</td>\n",
       "      <td>120</td>\n",
       "      <td>1</td>\n",
       "      <td>0</td>\n",
       "      <td>56</td>\n",
       "      <td>3</td>\n",
       "      <td>0</td>\n",
       "      <td>88</td>\n",
       "      <td>62</td>\n",
       "      <td>27</td>\n",
       "      <td>17</td>\n",
       "      <td>0.738095</td>\n",
       "      <td>34</td>\n",
       "      <td>61</td>\n",
       "      <td>17</td>\n",
       "      <td>13</td>\n",
       "      <td>20</td>\n",
       "    </tr>\n",
       "    <tr>\n",
       "      <th>1</th>\n",
       "      <td>4</td>\n",
       "      <td>26</td>\n",
       "      <td>4</td>\n",
       "      <td>1</td>\n",
       "      <td>1</td>\n",
       "      <td>1</td>\n",
       "      <td>0</td>\n",
       "      <td>20</td>\n",
       "      <td>4</td>\n",
       "      <td>0</td>\n",
       "      <td>109</td>\n",
       "      <td>55</td>\n",
       "      <td>37</td>\n",
       "      <td>22</td>\n",
       "      <td>0.690476</td>\n",
       "      <td>7</td>\n",
       "      <td>33</td>\n",
       "      <td>14</td>\n",
       "      <td>11</td>\n",
       "      <td>26</td>\n",
       "    </tr>\n",
       "    <tr>\n",
       "      <th>2</th>\n",
       "      <td>9</td>\n",
       "      <td>21</td>\n",
       "      <td>3</td>\n",
       "      <td>2</td>\n",
       "      <td>1</td>\n",
       "      <td>0</td>\n",
       "      <td>0</td>\n",
       "      <td>36</td>\n",
       "      <td>3</td>\n",
       "      <td>0</td>\n",
       "      <td>106</td>\n",
       "      <td>64</td>\n",
       "      <td>39</td>\n",
       "      <td>17</td>\n",
       "      <td>0.690476</td>\n",
       "      <td>25</td>\n",
       "      <td>73</td>\n",
       "      <td>24</td>\n",
       "      <td>7</td>\n",
       "      <td>23</td>\n",
       "    </tr>\n",
       "    <tr>\n",
       "      <th>3</th>\n",
       "      <td>10</td>\n",
       "      <td>21</td>\n",
       "      <td>2</td>\n",
       "      <td>2</td>\n",
       "      <td>1</td>\n",
       "      <td>0</td>\n",
       "      <td>1</td>\n",
       "      <td>51</td>\n",
       "      <td>5</td>\n",
       "      <td>0</td>\n",
       "      <td>101</td>\n",
       "      <td>52</td>\n",
       "      <td>33</td>\n",
       "      <td>18</td>\n",
       "      <td>0.833333</td>\n",
       "      <td>17</td>\n",
       "      <td>48</td>\n",
       "      <td>16</td>\n",
       "      <td>10</td>\n",
       "      <td>21</td>\n",
       "    </tr>\n",
       "    <tr>\n",
       "      <th>4</th>\n",
       "      <td>13</td>\n",
       "      <td>21</td>\n",
       "      <td>3</td>\n",
       "      <td>1</td>\n",
       "      <td>1</td>\n",
       "      <td>1</td>\n",
       "      <td>0</td>\n",
       "      <td>22</td>\n",
       "      <td>4</td>\n",
       "      <td>0</td>\n",
       "      <td>102</td>\n",
       "      <td>58</td>\n",
       "      <td>28</td>\n",
       "      <td>21</td>\n",
       "      <td>0.690476</td>\n",
       "      <td>14</td>\n",
       "      <td>46</td>\n",
       "      <td>22</td>\n",
       "      <td>14</td>\n",
       "      <td>23</td>\n",
       "    </tr>\n",
       "  </tbody>\n",
       "</table>\n",
       "</div>"
      ],
      "text/plain": [
       "   id  age  year  sex  glang  part  job  stud_h  health  psyt  jspe  qcae_cog  \\\n",
       "0   2   18     1    1    120     1    0      56       3     0    88        62   \n",
       "1   4   26     4    1      1     1    0      20       4     0   109        55   \n",
       "2   9   21     3    2      1     0    0      36       3     0   106        64   \n",
       "3  10   21     2    2      1     0    1      51       5     0   101        52   \n",
       "4  13   21     3    1      1     1    0      22       4     0   102        58   \n",
       "\n",
       "   qcae_aff  amsp  erec_mean  cesd  stai_t  mbi_ex  mbi_cy  mbi_ea  \n",
       "0        27    17   0.738095    34      61      17      13      20  \n",
       "1        37    22   0.690476     7      33      14      11      26  \n",
       "2        39    17   0.690476    25      73      24       7      23  \n",
       "3        33    18   0.833333    17      48      16      10      21  \n",
       "4        28    21   0.690476    14      46      22      14      23  "
      ]
     },
     "execution_count": 1,
     "metadata": {},
     "output_type": "execute_result"
    }
   ],
   "source": [
    "# modules we'll use\n",
    "import pandas as pd\n",
    "import numpy as np\n",
    "import seaborn as sb\n",
    "import scipy.stats\n",
    "import statsmodels.stats.weightstats\n",
    "import matplotlib.pyplot as plt\n",
    "from sklearn.linear_model import LinearRegression\n",
    "from scipy.stats import chi2_contingency\n",
    "# read in our data\n",
    "med_df = pd.read_csv(\"C:/Users/ASUS/Desktop/Data Carrard et al. 2022 MedTeach.csv\")\n",
    "med_df.head(5)"
   ]
  },
  {
   "attachments": {},
   "cell_type": "markdown",
   "metadata": {},
   "source": [
    "<h2>描述統計</h2>"
   ]
  },
  {
   "cell_type": "code",
   "execution_count": 2,
   "metadata": {},
   "outputs": [
    {
     "name": "stdout",
     "output_type": "stream",
     "text": [
      "          stud_h    stai_t\n",
      "stud_h  1.000000  0.152052\n",
      "stai_t  0.152052  1.000000\n"
     ]
    }
   ],
   "source": [
    "#stud_h stai_t\n",
    "category = med_df[[\"stud_h\",\"stai_t\"]].copy()\n",
    "print(category.corr())"
   ]
  },
  {
   "attachments": {},
   "cell_type": "markdown",
   "metadata": {},
   "source": [
    "<h3>\n",
    "每周學習時間和焦慮量的相關係數為0.152052，\n",
    "但仍然不能確定兩者是碰巧相關，還是真的相關\n",
    "</h3>"
   ]
  },
  {
   "cell_type": "code",
   "execution_count": 3,
   "metadata": {},
   "outputs": [
    {
     "name": "stdout",
     "output_type": "stream",
     "text": [
      "count    886.000000\n",
      "mean      25.288939\n",
      "std       15.927875\n",
      "min        0.000000\n",
      "25%       12.000000\n",
      "50%       25.000000\n",
      "75%       36.000000\n",
      "max       70.000000\n",
      "Name: stud_h, dtype: float64\n",
      "count    886.000000\n",
      "mean      42.898420\n",
      "std       11.978458\n",
      "min       20.000000\n",
      "25%       34.000000\n",
      "50%       43.000000\n",
      "75%       51.000000\n",
      "max       77.000000\n",
      "Name: stai_t, dtype: float64\n"
     ]
    }
   ],
   "source": [
    "print(med_df[\"stud_h\"].describe())\n",
    "print(med_df[\"stai_t\"].describe())\n"
   ]
  },
  {
   "attachments": {},
   "cell_type": "markdown",
   "metadata": {},
   "source": [
    "|                |   mean   | std    |  min  | 25%     |  50%     | 75%  | max  |\n",
    "|  ----          | ----     |  ----   | ---- | ----   |----     |----     |----   |\n",
    "| Learning time  | 25.2889  | 15.9278 |0   |  12     |  25       |36     | 70  | \n",
    "| Anxiety amount |  42.8984 |11.9784 |  20  |34      |43         | 51      |77 |\n",
    "\n"
   ]
  },
  {
   "cell_type": "code",
   "execution_count": 4,
   "metadata": {},
   "outputs": [
    {
     "data": {
      "text/plain": [
       "[Text(0.5, 0, 'Studying time'),\n",
       " Text(0, 0.5, 'mean of Anxiety amount'),\n",
       " Text(0.5, 1.0, 'the Line Plot of Studying time vs mean of Anxiety amount')]"
      ]
     },
     "execution_count": 4,
     "metadata": {},
     "output_type": "execute_result"
    },
    {
     "data": {
      "image/png": "[encoded data removed]",
      "text/plain": [
       "<Figure size 640x480 with 1 Axes>"
      ]
     },
     "metadata": {},
     "output_type": "display_data"
    }
   ],
   "source": [
    "# stud_h stai_t\n",
    "sb.set(style=\"whitegrid\")\n",
    "ax = sb.lineplot(data = med_df,x=\"stud_h\", y= \"stai_t\", color='red',err_style=None,alpha=.5)\n",
    "ax.set(xlabel=\"Studying time\",ylabel=\"mean of Anxiety amount\",title=\"the Line Plot of Studying time vs mean of Anxiety amount\")\n"
   ]
  },
  {
   "attachments": {},
   "cell_type": "markdown",
   "metadata": {},
   "source": [
    "-----------------\n",
    "<h2>檢定統計</h2>\n",
    "\n",
    "<h3>\n",
    "將每周學習時間<= 35hr 視為學習時間短，每周學習時間> 35hr 視為學習時間長\n",
    "\n",
    "先檢定學習時間短vs焦慮量 和 學習時間長vs焦慮量 的資料是否為常態\n",
    "</h3>\n",
    "\n"
   ]
  },
  {
   "cell_type": "code",
   "execution_count": 45,
   "metadata": {},
   "outputs": [
    {
     "name": "stdout",
     "output_type": "stream",
     "text": [
      "NormaltestResult(statistic=14.552638452928875, pvalue=0.0006917269739853282)\n",
      "NormaltestResult(statistic=4.631267386969373, pvalue=0.09870361634127528)\n"
     ]
    }
   ],
   "source": [
    "stud_h_stai_t_smaller35_df = med_df['stai_t'].loc[med_df['stud_h']<=35]\n",
    "print(scipy.stats.normaltest(stud_h_stai_t_smaller35_df))\n",
    "stud_h_stai_t_larger35_df = med_df['stai_t'].loc[med_df['stud_h']>35]\n",
    "print(scipy.stats.normaltest(stud_h_stai_t_larger35_df))"
   ]
  },
  {
   "attachments": {},
   "cell_type": "markdown",
   "metadata": {},
   "source": [
    "<h3>\n",
    "因為兩者的p-value不全都 < 0.05，所以資料並不全是常態分布\n",
    "\n",
    "因此使用無母數 Kruskal-Wallis H-test\n",
    "</h3>\n",
    "註: 無母數(non-parametric)分析資料不需為常態分布，也不需檢查資料是否為相同變異數\n",
    "\n",
    "H0: 每周學習時間長短對焦慮量無顯著影響\n",
    "\n",
    "H1: 每周學習時間長短對焦慮量有顯著影響\n",
    "\n"
   ]
  },
  {
   "cell_type": "code",
   "execution_count": 46,
   "metadata": {},
   "outputs": [
    {
     "data": {
      "text/plain": [
       "KruskalResult(statistic=6.4363768676114415, pvalue=0.011180645893197377)"
      ]
     },
     "execution_count": 46,
     "metadata": {},
     "output_type": "execute_result"
    }
   ],
   "source": [
    "scipy.stats.kruskal (stud_h_stai_t_smaller35_df ,stud_h_stai_t_larger35_df)"
   ]
  },
  {
   "attachments": {},
   "cell_type": "markdown",
   "metadata": {},
   "source": [
    "<h3>根據Kruskal-Wallis H-test的結果，\n",
    "\n",
    "因為pvalue=0.011180645893197377 < 0.05，棄卻H0，\n",
    "\n",
    "因此在顯著水準為0.05的情況下，每周學習時間的長短對焦慮量有顯著影響\n",
    "</h3>"
   ]
  },
  {
   "attachments": {},
   "cell_type": "markdown",
   "metadata": {},
   "source": [
    "----------------------------------\n",
    "<h2>延伸分析</h2>\n",
    "<h3>\n",
    "既然每周學習時間和焦慮量(心理上的)有關，那麼就好奇是否和生理健康有關呢\n",
    "\n",
    "於是，我們把每周學習時間長短和生理健康也拿來作檢定\n",
    "\n",
    "首先，一樣先檢查資料是否常態\n",
    "</h3>"
   ]
  },
  {
   "cell_type": "code",
   "execution_count": 47,
   "metadata": {},
   "outputs": [
    {
     "name": "stdout",
     "output_type": "stream",
     "text": [
      "NormaltestResult(statistic=82.12202003350761, pvalue=1.4703811562385643e-18)\n",
      "NormaltestResult(statistic=16.3050574671641, pvalue=0.00028800614720853144)\n"
     ]
    }
   ],
   "source": [
    "stud_h_health_smaller35_df = med_df['health'].loc[med_df['stud_h']<=35]\n",
    "print(scipy.stats.normaltest(stud_h_health_smaller35_df))\n",
    "stud_h_health_larger35_df = med_df['health'].loc[med_df['stud_h']>35]\n",
    "print(scipy.stats.normaltest(stud_h_health_larger35_df))"
   ]
  },
  {
   "attachments": {},
   "cell_type": "markdown",
   "metadata": {},
   "source": [
    "<h3>\n",
    "因為兩者的p-value < 0.05，所以資料不是常態分布\n",
    "因此使用無母數 Kruskal-Wallis H-test\n",
    "</h3>\n",
    "\n",
    "H0: 每周學習時間長短對生理健康無顯著影響\n",
    "\n",
    "H1: 每周學習時間長短對生理健康有顯著影響"
   ]
  },
  {
   "cell_type": "code",
   "execution_count": 48,
   "metadata": {},
   "outputs": [
    {
     "data": {
      "text/plain": [
       "KruskalResult(statistic=4.1936490476709904, pvalue=0.04057567038344269)"
      ]
     },
     "execution_count": 48,
     "metadata": {},
     "output_type": "execute_result"
    }
   ],
   "source": [
    "scipy.stats.kruskal (stud_h_health_smaller35_df ,stud_h_health_larger35_df)"
   ]
  },
  {
   "attachments": {},
   "cell_type": "markdown",
   "metadata": {},
   "source": [
    "<h3>根據Kruskal-Wallis H-test的結果，\n",
    "\n",
    "因為pvalue=0.04057567038344269 < 0.05，棄卻H0，\n",
    "\n",
    "因此在顯著水準為0.05的情況下，每周學習時間的長短對生理健康有顯著影響\n",
    "</h3>"
   ]
  },
  {
   "attachments": {},
   "cell_type": "markdown",
   "metadata": {},
   "source": [
    "--------------\n",
    "<h2>\n",
    "結論\n",
    "</h2>\n",
    "<h3>\n",
    "影響健康的層面很多種，而學習時間的長短對醫學生的焦慮量和生理健康都有顯著影響\n",
    "</h3>\n",
    "<h3>\n",
    "Insight: 對於健康和學習表現之間，勢必要有取捨，或是規畫更有效率的學習方法，以降低達成學業目標所需的學習時間，才可以降低焦慮量的生成和對生理健康的損害。\n",
    "</h3>"
   ]
  }
 ],
 "metadata": {
  "kernelspec": {
   "display_name": "Python 3",
   "language": "python",
   "name": "python3"
  },
  "language_info": {
   "codemirror_mode": {
    "name": "ipython",
    "version": 3
   },
   "file_extension": ".py",
   "mimetype": "text/x-python",
   "name": "python",
   "nbconvert_exporter": "python",
   "pygments_lexer": "ipython3",
   "version": "3.10.5"
  },
  "orig_nbformat": 4
 },
 "nbformat": 4,
 "nbformat_minor": 2
}
